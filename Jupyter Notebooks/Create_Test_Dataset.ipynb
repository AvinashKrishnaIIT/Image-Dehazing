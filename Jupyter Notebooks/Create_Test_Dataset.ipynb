{
  "nbformat": 4,
  "nbformat_minor": 0,
  "metadata": {
    "colab": {
      "name": "Create Test Dataset.ipynb",
      "provenance": [],
      "collapsed_sections": []
    },
    "kernelspec": {
      "name": "python3",
      "display_name": "Python 3"
    }
  },
  "cells": [
    {
      "cell_type": "code",
      "metadata": {
        "id": "9HLfQFGM4toB",
        "colab_type": "code",
        "colab": {}
      },
      "source": [
        "from google.colab import drive\n",
        "drive.mount('/content/gdrive')"
      ],
      "execution_count": null,
      "outputs": []
    },
    {
      "cell_type": "code",
      "metadata": {
        "id": "Kzvg1tQ26Mo7",
        "colab_type": "code",
        "colab": {}
      },
      "source": [
        "import os, random\n",
        "\n",
        "from PIL import Image\n",
        "from matplotlib import pyplot as plt"
      ],
      "execution_count": null,
      "outputs": []
    },
    {
      "cell_type": "markdown",
      "metadata": {
        "id": "_eI1fcthaNT9",
        "colab_type": "text"
      },
      "source": [
        "### OTS"
      ]
    },
    {
      "cell_type": "code",
      "metadata": {
        "id": "13jxkOpVFnn_",
        "colab_type": "code",
        "colab": {}
      },
      "source": [
        "!unzip -q '/content/gdrive/My Drive/DL Project/Datasets/TestData/OTS/clear.zip' -d '/content/'"
      ],
      "execution_count": null,
      "outputs": []
    },
    {
      "cell_type": "code",
      "metadata": {
        "id": "DWol7N3EFzsa",
        "colab_type": "code",
        "colab": {}
      },
      "source": [
        "!unzip -q '/content/gdrive/My Drive/DL Project/Datasets/TestData/OTS/haze1.zip' -d '/content/'"
      ],
      "execution_count": null,
      "outputs": []
    },
    {
      "cell_type": "code",
      "metadata": {
        "id": "PmTpTHBU9S0_",
        "colab_type": "code",
        "colab": {}
      },
      "source": [
        "clear = os.listdir('clear')\n",
        "clear.sort()\n",
        "haze = os.listdir('part1')\n",
        "haze.sort()\n",
        "l = ['_0.8_0.04.jpg','_0.8_0.2.jpg','_0.85_0.06.jpg','_0.85_0.16.jpg','_0.9_0.08.jpg','_0.9_0.12.jpg','_0.95_0.1.jpg','_0.95_0.04.jpg','_1_0.08.jpg','_1_0.16.jpg']"
      ],
      "execution_count": null,
      "outputs": []
    },
    {
      "cell_type": "code",
      "metadata": {
        "id": "L1lIIZ4C-nCa",
        "colab_type": "code",
        "colab": {}
      },
      "source": [
        "!mkdir test"
      ],
      "execution_count": null,
      "outputs": []
    },
    {
      "cell_type": "code",
      "metadata": {
        "id": "cWZxVbcRSDen",
        "colab_type": "code",
        "colab": {}
      },
      "source": [
        "!rm test/*"
      ],
      "execution_count": null,
      "outputs": []
    },
    {
      "cell_type": "code",
      "metadata": {
        "id": "tlzfUFbcXZQG",
        "colab_type": "code",
        "colab": {}
      },
      "source": [
        "k=20\n",
        "for i in range(len(l)):\n",
        "    for j in range(k-20,k):\n",
        "        im_c = Image.open('clear/'+clear[j])\n",
        "        im = Image.open('part1/'+(clear[j].replace('.jpg',''))+l[i])\n",
        "        # plt.imshow(im_c)\n",
        "        # plt.show()\n",
        "        # plt.imshow(im)\n",
        "        # plt.show()\n",
        "        im_c.save('test/'+str(j)+'_clean.jpg')\n",
        "        im.save('test/'+str(j)+'.jpg')\n",
        "    k = k + 20"
      ],
      "execution_count": null,
      "outputs": []
    },
    {
      "cell_type": "code",
      "metadata": {
        "id": "XnnSn1yuSOfl",
        "colab_type": "code",
        "colab": {
          "base_uri": "https://localhost:8080/",
          "height": 33
        },
        "outputId": "d0a9c463-a2ba-4a18-b88d-2c82b8b48cb3"
      },
      "source": [
        "!ls test | wc -l"
      ],
      "execution_count": null,
      "outputs": [
        {
          "output_type": "stream",
          "text": [
            "400\n"
          ],
          "name": "stdout"
        }
      ]
    },
    {
      "cell_type": "code",
      "metadata": {
        "id": "T-4q3AwXZqm_",
        "colab_type": "code",
        "colab": {}
      },
      "source": [
        "!tar -czvf test.tar.gz test"
      ],
      "execution_count": null,
      "outputs": []
    },
    {
      "cell_type": "code",
      "metadata": {
        "id": "v0vRkB7mY_AM",
        "colab_type": "code",
        "colab": {}
      },
      "source": [
        "!cp test.tar.gz '/content/gdrive/My Drive/DL Project/Datasets/TestData'"
      ],
      "execution_count": null,
      "outputs": []
    },
    {
      "cell_type": "markdown",
      "metadata": {
        "id": "-qmG0TG-aRGb",
        "colab_type": "text"
      },
      "source": [
        "### ITS"
      ]
    },
    {
      "cell_type": "code",
      "metadata": {
        "colab_type": "code",
        "id": "GcjnHDu5aZR0",
        "colab": {}
      },
      "source": [
        "!unzip -q '/content/gdrive/My Drive/DL Project/Datasets/TestData/ITS/clear.zip' -d '/content/'"
      ],
      "execution_count": null,
      "outputs": []
    },
    {
      "cell_type": "code",
      "metadata": {
        "colab_type": "code",
        "id": "t8RN1cNTaZSN",
        "colab": {}
      },
      "source": [
        "!unzip -q '/content/gdrive/My Drive/DL Project/Datasets/TestData/ITS/haze.zip' -d '/content/'"
      ],
      "execution_count": null,
      "outputs": []
    },
    {
      "cell_type": "code",
      "metadata": {
        "colab_type": "code",
        "id": "tf4FXd8EaZSV",
        "colab": {}
      },
      "source": [
        "clear = os.listdir('clear')\n",
        "haze = os.listdir('hazy')"
      ],
      "execution_count": null,
      "outputs": []
    },
    {
      "cell_type": "code",
      "metadata": {
        "colab_type": "code",
        "id": "c5PlmgvUaZSd",
        "colab": {}
      },
      "source": [
        "!mkdir test_its"
      ],
      "execution_count": null,
      "outputs": []
    },
    {
      "cell_type": "code",
      "metadata": {
        "colab_type": "code",
        "id": "jlgrgYDOaZSk",
        "colab": {
          "base_uri": "https://localhost:8080/",
          "height": 33
        },
        "outputId": "d10ca901-7963-4c3f-f3fa-8747183654b4"
      },
      "source": [
        "!rm test_its/*"
      ],
      "execution_count": null,
      "outputs": [
        {
          "output_type": "stream",
          "text": [
            "rm: cannot remove 'test_its/*': No such file or directory\n"
          ],
          "name": "stdout"
        }
      ]
    },
    {
      "cell_type": "code",
      "metadata": {
        "id": "KypCrN_TcBQx",
        "colab_type": "code",
        "colab": {}
      },
      "source": [
        "rhaze = random.sample(haze, 20)\n",
        "for i in range(len(rhaze)):\n",
        "    im = Image.open('hazy/'+rhaze[i])\n",
        "    c = rhaze[i].partition('_')[0]+'.png'\n",
        "    im_c = Image.open('clear/'+c)\n",
        "    # plt.imshow(im_c)\n",
        "    # plt.show()\n",
        "    # plt.imshow(im)\n",
        "    # plt.show()\n",
        "    im_c.save('test_its/'+str(i)+'_clean.jpg')\n",
        "    im.save('test_its/'+str(i)+'.jpg')"
      ],
      "execution_count": null,
      "outputs": []
    },
    {
      "cell_type": "code",
      "metadata": {
        "colab_type": "code",
        "id": "vggoYo_BaZSy",
        "colab": {
          "base_uri": "https://localhost:8080/",
          "height": 33
        },
        "outputId": "f4d51eb7-a6df-4111-a808-00bf585bc99c"
      },
      "source": [
        "!ls test_its | wc -l"
      ],
      "execution_count": null,
      "outputs": [
        {
          "output_type": "stream",
          "text": [
            "40\n"
          ],
          "name": "stdout"
        }
      ]
    },
    {
      "cell_type": "code",
      "metadata": {
        "colab_type": "code",
        "id": "dloLnLDwaZS7",
        "colab": {
          "base_uri": "https://localhost:8080/",
          "height": 700
        },
        "outputId": "30b61e60-554f-45b9-f235-4fd5d9437ec7"
      },
      "source": [
        "!tar -czvf test_its.tar.gz test_its"
      ],
      "execution_count": null,
      "outputs": [
        {
          "output_type": "stream",
          "text": [
            "test_its/\n",
            "test_its/16_clean.jpg\n",
            "test_its/7.jpg\n",
            "test_its/8.jpg\n",
            "test_its/11_clean.jpg\n",
            "test_its/4.jpg\n",
            "test_its/3.jpg\n",
            "test_its/0_clean.jpg\n",
            "test_its/16.jpg\n",
            "test_its/1.jpg\n",
            "test_its/17_clean.jpg\n",
            "test_its/6.jpg\n",
            "test_its/4_clean.jpg\n",
            "test_its/11.jpg\n",
            "test_its/10_clean.jpg\n",
            "test_its/14_clean.jpg\n",
            "test_its/18_clean.jpg\n",
            "test_its/1_clean.jpg\n",
            "test_its/2_clean.jpg\n",
            "test_its/3_clean.jpg\n",
            "test_its/19_clean.jpg\n",
            "test_its/14.jpg\n",
            "test_its/2.jpg\n",
            "test_its/18.jpg\n",
            "test_its/19.jpg\n",
            "test_its/13_clean.jpg\n",
            "test_its/13.jpg\n",
            "test_its/0.jpg\n",
            "test_its/9.jpg\n",
            "test_its/5.jpg\n",
            "test_its/5_clean.jpg\n",
            "test_its/12_clean.jpg\n",
            "test_its/6_clean.jpg\n",
            "test_its/17.jpg\n",
            "test_its/8_clean.jpg\n",
            "test_its/9_clean.jpg\n",
            "test_its/10.jpg\n",
            "test_its/7_clean.jpg\n",
            "test_its/15.jpg\n",
            "test_its/12.jpg\n",
            "test_its/15_clean.jpg\n"
          ],
          "name": "stdout"
        }
      ]
    },
    {
      "cell_type": "code",
      "metadata": {
        "colab_type": "code",
        "id": "K2FX9BHvaZTC",
        "colab": {}
      },
      "source": [
        "!cp test_its.tar.gz '/content/gdrive/My Drive/DL Project/Datasets/TestData'"
      ],
      "execution_count": null,
      "outputs": []
    }
  ]
}